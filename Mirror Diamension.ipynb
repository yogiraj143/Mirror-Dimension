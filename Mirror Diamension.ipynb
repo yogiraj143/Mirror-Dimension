{
 "cells": [
  {
   "cell_type": "code",
   "execution_count": 1,
   "id": "8556d8f3",
   "metadata": {
    "scrolled": true
   },
   "outputs": [
    {
     "name": "stdout",
     "output_type": "stream",
     "text": [
      "Enter a word you want to reverse: Edyoda\n",
      "adoydE \n"
     ]
    }
   ],
   "source": [
    "word=input(\"Enter a word you want to reverse:\")\n",
    "\n",
    "print(word[len(word)-1::-1])\n"
   ]
  },
  {
   "cell_type": "code",
   "execution_count": null,
   "id": "77a615d1",
   "metadata": {},
   "outputs": [],
   "source": []
  }
 ],
 "metadata": {
  "kernelspec": {
   "display_name": "Python 3 (ipykernel)",
   "language": "python",
   "name": "python3"
  },
  "language_info": {
   "codemirror_mode": {
    "name": "ipython",
    "version": 3
   },
   "file_extension": ".py",
   "mimetype": "text/x-python",
   "name": "python",
   "nbconvert_exporter": "python",
   "pygments_lexer": "ipython3",
   "version": "3.9.7"
  }
 },
 "nbformat": 4,
 "nbformat_minor": 5
}
